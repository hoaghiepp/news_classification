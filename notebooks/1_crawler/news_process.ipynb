{
 "cells": [
  {
   "cell_type": "code",
   "execution_count": 41,
   "metadata": {},
   "outputs": [],
   "source": [
    "import pandas as pd\n",
    "import matplotlib.pyplot as plt\n",
    "import glob\n",
    "import os\n",
    "\n",
    "folder_path = '../../data/raw'\n",
    "\n",
    "csv_files = glob.glob(os.path.join(folder_path, '*.csv'))\n",
    "df = pd.concat([pd.read_csv(file) for file in csv_files], ignore_index=True)"
   ]
  },
  {
   "cell_type": "code",
   "execution_count": 43,
   "metadata": {},
   "outputs": [
    {
     "data": {
      "text/html": [
       "<div>\n",
       "<style scoped>\n",
       "    .dataframe tbody tr th:only-of-type {\n",
       "        vertical-align: middle;\n",
       "    }\n",
       "\n",
       "    .dataframe tbody tr th {\n",
       "        vertical-align: top;\n",
       "    }\n",
       "\n",
       "    .dataframe thead th {\n",
       "        text-align: right;\n",
       "    }\n",
       "</style>\n",
       "<table border=\"1\" class=\"dataframe\">\n",
       "  <thead>\n",
       "    <tr style=\"text-align: right;\">\n",
       "      <th></th>\n",
       "      <th>pub_date</th>\n",
       "      <th>title</th>\n",
       "      <th>lead</th>\n",
       "      <th>section</th>\n",
       "      <th>keywords</th>\n",
       "    </tr>\n",
       "  </thead>\n",
       "  <tbody>\n",
       "    <tr>\n",
       "      <th>0</th>\n",
       "      <td>2023-01-01T00:05:59+0000</td>\n",
       "      <td>How Do You Think About the Question of When Li...</td>\n",
       "      <td>In the months since the Supreme Court overturn...</td>\n",
       "      <td>U.S.</td>\n",
       "      <td>['Abortion', 'internal-open-access']</td>\n",
       "    </tr>\n",
       "    <tr>\n",
       "      <th>1</th>\n",
       "      <td>2023-01-01T00:15:57+0000</td>\n",
       "      <td>When Does Life Begin?</td>\n",
       "      <td>The question is at the heart of the human expe...</td>\n",
       "      <td>U.S.</td>\n",
       "      <td>['Pregnancy and Childbirth', 'Embryos (Human)'...</td>\n",
       "    </tr>\n",
       "    <tr>\n",
       "      <th>2</th>\n",
       "      <td>2023-01-01T01:27:54+0000</td>\n",
       "      <td>T.C.U. Upends Michigan in Wild Playoff Semifinal</td>\n",
       "      <td>GLENDALE, Ariz. — Sonny Dykes is not the ideal...</td>\n",
       "      <td>Sports</td>\n",
       "      <td>['Football (College)', 'Big 12 Conference', 'B...</td>\n",
       "    </tr>\n",
       "    <tr>\n",
       "      <th>3</th>\n",
       "      <td>2023-01-01T04:00:10+0000</td>\n",
       "      <td>In Bucha, a Final Rampage Served as a Coda to ...</td>\n",
       "      <td>BUCHA, Ukraine — On one of the last nights of ...</td>\n",
       "      <td>World</td>\n",
       "      <td>['Bucha (Ukraine)', 'War Crimes, Genocide and ...</td>\n",
       "    </tr>\n",
       "    <tr>\n",
       "      <th>4</th>\n",
       "      <td>2023-01-01T05:06:06+0000</td>\n",
       "      <td>Georgia Downs Ohio State in Semifinal on Last-...</td>\n",
       "      <td>ATLANTA — The Georgia Bulldogs appeared very n...</td>\n",
       "      <td>Sports</td>\n",
       "      <td>['Football (College)', 'College Football Playo...</td>\n",
       "    </tr>\n",
       "  </tbody>\n",
       "</table>\n",
       "</div>"
      ],
      "text/plain": [
       "                   pub_date  \\\n",
       "0  2023-01-01T00:05:59+0000   \n",
       "1  2023-01-01T00:15:57+0000   \n",
       "2  2023-01-01T01:27:54+0000   \n",
       "3  2023-01-01T04:00:10+0000   \n",
       "4  2023-01-01T05:06:06+0000   \n",
       "\n",
       "                                               title  \\\n",
       "0  How Do You Think About the Question of When Li...   \n",
       "1                              When Does Life Begin?   \n",
       "2   T.C.U. Upends Michigan in Wild Playoff Semifinal   \n",
       "3  In Bucha, a Final Rampage Served as a Coda to ...   \n",
       "4  Georgia Downs Ohio State in Semifinal on Last-...   \n",
       "\n",
       "                                                lead section  \\\n",
       "0  In the months since the Supreme Court overturn...    U.S.   \n",
       "1  The question is at the heart of the human expe...    U.S.   \n",
       "2  GLENDALE, Ariz. — Sonny Dykes is not the ideal...  Sports   \n",
       "3  BUCHA, Ukraine — On one of the last nights of ...   World   \n",
       "4  ATLANTA — The Georgia Bulldogs appeared very n...  Sports   \n",
       "\n",
       "                                            keywords  \n",
       "0               ['Abortion', 'internal-open-access']  \n",
       "1  ['Pregnancy and Childbirth', 'Embryos (Human)'...  \n",
       "2  ['Football (College)', 'Big 12 Conference', 'B...  \n",
       "3  ['Bucha (Ukraine)', 'War Crimes, Genocide and ...  \n",
       "4  ['Football (College)', 'College Football Playo...  "
      ]
     },
     "execution_count": 43,
     "metadata": {},
     "output_type": "execute_result"
    }
   ],
   "source": [
    "df = df.drop(columns=['Unnamed: 0'])\n",
    "df.head()"
   ]
  },
  {
   "cell_type": "code",
   "execution_count": 44,
   "metadata": {},
   "outputs": [
    {
     "data": {
      "text/plain": [
       "array(['U.S.', 'Sports', 'World', 'Opinion', 'Corrections',\n",
       "       'Crosswords & Games', 'Style', 'New York', 'Business Day',\n",
       "       'The Upshot', 'Books', 'Your Money', 'Science', 'Technology',\n",
       "       'Arts', 'Headway', 'Briefing', 'Movies', 'Obituaries', 'Food',\n",
       "       'Climate', 'Well', 'Magazine', 'Real Estate', 'Travel',\n",
       "       'Times Insider', 'The Learning Network', 'Health', 'Podcasts',\n",
       "       'Theater', 'T Brand', 'Lens', 'T Magazine', 'Smarter Living',\n",
       "       'en Español', 'Reader Center', 'Fashion & Style',\n",
       "       'International Home', 'Video', 'Special Series', nan,\n",
       "       'The New York Times Presents', 'Education', 'Admin',\n",
       "       'Multimedia/Photos', 'Job Market', 'Book Review', 'Guide',\n",
       "       'Automobiles', 'Homepage', 'Today’s Paper', 'Weather', 'Parenting',\n",
       "       'Polls'], dtype=object)"
      ]
     },
     "execution_count": 44,
     "metadata": {},
     "output_type": "execute_result"
    }
   ],
   "source": [
    "df['section'].unique()"
   ]
  },
  {
   "cell_type": "code",
   "execution_count": 45,
   "metadata": {},
   "outputs": [
    {
     "data": {
      "text/plain": [
       "array(['Sports', 'World', 'Style', 'New York', 'Business Day', 'Books',\n",
       "       'Science', 'Technology', 'Arts', 'Movies', 'Obituaries', 'Food',\n",
       "       'Climate', 'Well', 'Magazine', 'Real Estate', 'Travel', 'Health',\n",
       "       'Theater', 'International Home', 'Education', 'Book Review',\n",
       "       'Automobiles'], dtype=object)"
      ]
     },
     "execution_count": 45,
     "metadata": {},
     "output_type": "execute_result"
    }
   ],
   "source": [
    "# pick real news sections\n",
    "\n",
    "real_news_sections = [\n",
    "    'World',\n",
    "    'Sports',\n",
    "    'Style',\n",
    "    'New York',\n",
    "    'Business Day',\n",
    "    'Books',\n",
    "    'Science',\n",
    "    'Technology',\n",
    "    'Arts',\n",
    "    'Movies',\n",
    "    'Obituaries',\n",
    "    'Food',\n",
    "    'Climate',\n",
    "    'Well',\n",
    "    'Magazine',\n",
    "    'Real Estate',\n",
    "    'Travel',\n",
    "    'Health',\n",
    "    'Theater',\n",
    "    'Education',\n",
    "    'Book Review',\n",
    "    'Automobiles',\n",
    "    'International Home'\n",
    "]\n",
    "\n",
    "df = df[df['section'].isin(real_news_sections)]\n",
    "df['section'].unique()"
   ]
  },
  {
   "cell_type": "code",
   "execution_count": 46,
   "metadata": {},
   "outputs": [
    {
     "data": {
      "text/plain": [
       "(63439, 5)"
      ]
     },
     "execution_count": 46,
     "metadata": {},
     "output_type": "execute_result"
    }
   ],
   "source": [
    "df.shape"
   ]
  },
  {
   "cell_type": "code",
   "execution_count": 47,
   "metadata": {},
   "outputs": [],
   "source": [
    "df.to_csv('../../data/processed/news.csv', index=False)"
   ]
  },
  {
   "cell_type": "code",
   "execution_count": 49,
   "metadata": {},
   "outputs": [
    {
     "data": {
      "text/html": [
       "<div>\n",
       "<style scoped>\n",
       "    .dataframe tbody tr th:only-of-type {\n",
       "        vertical-align: middle;\n",
       "    }\n",
       "\n",
       "    .dataframe tbody tr th {\n",
       "        vertical-align: top;\n",
       "    }\n",
       "\n",
       "    .dataframe thead th {\n",
       "        text-align: right;\n",
       "    }\n",
       "</style>\n",
       "<table border=\"1\" class=\"dataframe\">\n",
       "  <thead>\n",
       "    <tr style=\"text-align: right;\">\n",
       "      <th></th>\n",
       "      <th>pub_date</th>\n",
       "      <th>title</th>\n",
       "      <th>lead</th>\n",
       "      <th>section</th>\n",
       "      <th>keywords</th>\n",
       "    </tr>\n",
       "  </thead>\n",
       "  <tbody>\n",
       "    <tr>\n",
       "      <th>count</th>\n",
       "      <td>63439</td>\n",
       "      <td>63439</td>\n",
       "      <td>63427</td>\n",
       "      <td>63439</td>\n",
       "      <td>63439</td>\n",
       "    </tr>\n",
       "    <tr>\n",
       "      <th>unique</th>\n",
       "      <td>60777</td>\n",
       "      <td>62300</td>\n",
       "      <td>61977</td>\n",
       "      <td>23</td>\n",
       "      <td>59694</td>\n",
       "    </tr>\n",
       "    <tr>\n",
       "      <th>top</th>\n",
       "      <td>2023-08-05T09:01:26+0000</td>\n",
       "      <td>5 Things to Do This Weekend</td>\n",
       "      <td>Welcome to Best of Late Night, a rundown of th...</td>\n",
       "      <td>World</td>\n",
       "      <td>['Cooking and Cookbooks', 'Content Type: Servi...</td>\n",
       "    </tr>\n",
       "    <tr>\n",
       "      <th>freq</th>\n",
       "      <td>7</td>\n",
       "      <td>93</td>\n",
       "      <td>343</td>\n",
       "      <td>14210</td>\n",
       "      <td>656</td>\n",
       "    </tr>\n",
       "  </tbody>\n",
       "</table>\n",
       "</div>"
      ],
      "text/plain": [
       "                        pub_date                        title  \\\n",
       "count                      63439                        63439   \n",
       "unique                     60777                        62300   \n",
       "top     2023-08-05T09:01:26+0000  5 Things to Do This Weekend   \n",
       "freq                           7                           93   \n",
       "\n",
       "                                                     lead section  \\\n",
       "count                                               63427   63439   \n",
       "unique                                              61977      23   \n",
       "top     Welcome to Best of Late Night, a rundown of th...   World   \n",
       "freq                                                  343   14210   \n",
       "\n",
       "                                                 keywords  \n",
       "count                                               63439  \n",
       "unique                                              59694  \n",
       "top     ['Cooking and Cookbooks', 'Content Type: Servi...  \n",
       "freq                                                  656  "
      ]
     },
     "execution_count": 49,
     "metadata": {},
     "output_type": "execute_result"
    }
   ],
   "source": [
    "df.describe()"
   ]
  }
 ],
 "metadata": {
  "kernelspec": {
   "display_name": "data_eng",
   "language": "python",
   "name": "python3"
  },
  "language_info": {
   "codemirror_mode": {
    "name": "ipython",
    "version": 3
   },
   "file_extension": ".py",
   "mimetype": "text/x-python",
   "name": "python",
   "nbconvert_exporter": "python",
   "pygments_lexer": "ipython3",
   "version": "3.11.11"
  }
 },
 "nbformat": 4,
 "nbformat_minor": 2
}
