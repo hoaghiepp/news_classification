{
 "cells": [
  {
   "cell_type": "code",
   "execution_count": 1,
   "metadata": {},
   "outputs": [],
   "source": [
    "nyt_api_key = 's21tf47GGNcYGjBch3GACC6d3p5sO5di'\n",
    "secret_key = 'wf06yzxGnPGtGmJd'\n"
   ]
  },
  {
   "cell_type": "code",
   "execution_count": 80,
   "metadata": {},
   "outputs": [],
   "source": [
    "import requests\n",
    "import pandas as pd\n",
    "\n",
    "def extract_feature(article):\n",
    "    return {\n",
    "        'pub_date': article.get('pub_date'),\n",
    "        'title': article.get('headline', {}).get('main', ''),\n",
    "        'lead': article.get('lead_paragraph') or article.get('abstract', ''),\n",
    "        'section': article.get('section_name'),\n",
    "        'keywords': [kw['value'] for kw in article.get('keywords', [])]\n",
    "    }\n",
    "\n",
    "def get_news_by_time(year, month):\n",
    "    url = f'https://api.nytimes.com/svc/archive/v1/{year}/{month}.json?api-key={nyt_api_key}'\n",
    "    response = requests.get(url)\n",
    "    \n",
    "    # Check if the request was successful\n",
    "    if response.status_code != 200:\n",
    "        print(year, month)\n",
    "        print(f\"Error: API request failed with status code {response.status_code}\")\n",
    "        print(f\"Response: {response.text}\")\n",
    "        return []\n",
    "    \n",
    "    try:\n",
    "        data = response.json()\n",
    "        # Print the response structure to debug\n",
    "        print(f\"Response keys: {data.keys()}\")\n",
    "        \n",
    "        if 'response' in data and 'docs' in data['response']:\n",
    "            articles = [extract_feature(article) for article in data['response']['docs']]\n",
    "            return articles\n",
    "        else:\n",
    "            print(year, month)\n",
    "            print(f\"Unexpected response structure: {data}\")\n",
    "            return []\n",
    "    except Exception as e:\n",
    "        print(year, month)\n",
    "        print(f\"Error processing response: {str(e)}\")\n",
    "        return []\n",
    "\n",
    "# get all articles of new yorks times via api\n",
    "\n",
    "\n",
    "def fetch_news_data(start_year, start_month, end_year, end_month):\n",
    "    articles_data = []\n",
    "    year = start_year\n",
    "    month = start_month\n",
    "\n",
    "    while (year < end_year) or (year == end_year and month <= end_month):\n",
    "        articles_data += get_news_by_time(year, month)\n",
    "\n",
    "        month += 1\n",
    "        if month > 12:\n",
    "            month = 1\n",
    "            year += 1\n",
    "    return articles_data\n",
    "\n",
    "def save_data(df, path):\n",
    "    df.to_csv(path)\n",
    "\n",
    "\n"
   ]
  },
  {
   "cell_type": "code",
   "execution_count": 73,
   "metadata": {},
   "outputs": [
    {
     "name": "stdout",
     "output_type": "stream",
     "text": [
      "Response keys: dict_keys(['copyright', 'response'])\n",
      "Response keys: dict_keys(['copyright', 'response'])\n",
      "Response keys: dict_keys(['copyright', 'response'])\n",
      "Response keys: dict_keys(['copyright', 'response'])\n",
      "Response keys: dict_keys(['copyright', 'response'])\n",
      "2023 6\n",
      "Error: API request failed with status code 429\n",
      "Response: {\"fault\":{\"faultstring\":\"Rate limit quota violation. Quota limit  exceeded. Identifier : 47410bb4-9669-4bb8-9839-c69cbd23dc17\",\"detail\":{\"errorcode\":\"policies.ratelimit.QuotaViolation\"}}}\n"
     ]
    }
   ],
   "source": [
    "articles_data = fetch_news_data(2023, 1, 2023, 5)"
   ]
  },
  {
   "cell_type": "code",
   "execution_count": 89,
   "metadata": {},
   "outputs": [
    {
     "name": "stdout",
     "output_type": "stream",
     "text": [
      "Response keys: dict_keys(['copyright', 'response'])\n",
      "Response keys: dict_keys(['copyright', 'response'])\n",
      "Response keys: dict_keys(['copyright', 'response'])\n",
      "Response keys: dict_keys(['copyright', 'response'])\n",
      "Response keys: dict_keys(['copyright', 'response'])\n"
     ]
    }
   ],
   "source": [
    "articles_data = fetch_news_data(2025, 1, 2025, 5)\n",
    "df = pd.DataFrame(articles_data)\n",
    "df.head()\n",
    "save_data(df, 'data/raw/news_6.csv')"
   ]
  },
  {
   "cell_type": "code",
   "execution_count": null,
   "metadata": {},
   "outputs": [],
   "source": []
  }
 ],
 "metadata": {
  "kernelspec": {
   "display_name": "data_eng",
   "language": "python",
   "name": "python3"
  },
  "language_info": {
   "codemirror_mode": {
    "name": "ipython",
    "version": 3
   },
   "file_extension": ".py",
   "mimetype": "text/x-python",
   "name": "python",
   "nbconvert_exporter": "python",
   "pygments_lexer": "ipython3",
   "version": "3.11.11"
  }
 },
 "nbformat": 4,
 "nbformat_minor": 2
}
